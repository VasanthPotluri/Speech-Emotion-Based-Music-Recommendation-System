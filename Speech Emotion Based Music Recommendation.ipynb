{
 "cells": [
  {
   "cell_type": "markdown",
   "id": "a7fc001d",
   "metadata": {},
   "source": [
    "\n",
    "# Importing Packages"
   ]
  },
  {
   "cell_type": "code",
   "execution_count": 1,
   "id": "916cb499",
   "metadata": {},
   "outputs": [],
   "source": [
    "import os\n",
    "import numpy as np\n",
    "import librosa\n",
    "import librosa.display\n",
    "import matplotlib.pyplot as plt\n",
    "from sklearn.model_selection import train_test_split\n",
    "from sklearn.metrics import classification_report, confusion_matrix,accuracy_score\n",
    "from sklearn.preprocessing import LabelEncoder\n",
    "from tensorflow.keras.models import Sequential\n",
    "from tensorflow.keras.layers import Conv3D, MaxPooling3D, Flatten, Dense, Dropout"
   ]
  },
  {
   "cell_type": "markdown",
   "id": "0d02f87c",
   "metadata": {},
   "source": [
    "# Function to extract MFCC features from an audio file"
   ]
  },
  {
   "cell_type": "code",
   "execution_count": 2,
   "id": "2dd12826",
   "metadata": {},
   "outputs": [],
   "source": [
    "def extract_mfcc(audio_file, num_mfcc=13, max_length=100):\n",
    "    y, sr = librosa.load(audio_file, sr=None)  # Load audio file\n",
    "    mfccs = librosa.feature.mfcc(y=y, sr=sr, n_mfcc=num_mfcc)  # Extract MFCC features\n",
    "    \n",
    "    # Pad or truncate mfccs to ensure fixed length\n",
    "    if mfccs.shape[1] > max_length:\n",
    "        mfccs = mfccs[:, :max_length]  # Truncate\n",
    "    elif mfccs.shape[1] < max_length:\n",
    "        pad_width = max_length - mfccs.shape[1]\n",
    "        mfccs = np.pad(mfccs, pad_width=((0, 0), (0, pad_width)), mode='constant')  # Pad\n",
    "    \n",
    "    return mfccs"
   ]
  },
  {
   "cell_type": "markdown",
   "id": "ebd214e0",
   "metadata": {},
   "source": [
    "# Function to load dataset and extract features"
   ]
  },
  {
   "cell_type": "code",
   "execution_count": 3,
   "id": "f528ad03",
   "metadata": {},
   "outputs": [],
   "source": [
    "def load_dataset_and_extract_features(dataset_dir, num_mfcc=13, max_length=100):\n",
    "    X = []\n",
    "    y = []\n",
    "\n",
    "    for emotion in os.listdir(dataset_dir):\n",
    "        emotion_dir = os.path.join(dataset_dir, emotion)\n",
    "        if os.path.isdir(emotion_dir):\n",
    "            for file in os.listdir(emotion_dir):\n",
    "                if file.endswith('.wav'):\n",
    "                    file_path = os.path.join(emotion_dir, file)\n",
    "\n",
    "                    # Extract MFCC features with fixed length\n",
    "                    mfccs = extract_mfcc(file_path, num_mfcc=num_mfcc, max_length=max_length)\n",
    "\n",
    "                    # Append to dataset\n",
    "                    X.append(mfccs[np.newaxis, ..., np.newaxis])  # Add channel dimensions\n",
    "                    y.append(emotion)\n",
    "\n",
    "    # Convert lists to numpy arrays\n",
    "    X = np.array(X)\n",
    "    y = np.array(y)\n",
    "\n",
    "    return X, y\n"
   ]
  },
  {
   "cell_type": "markdown",
   "id": "5034d60c",
   "metadata": {},
   "source": [
    "# Load Savee dataset and extract MFCC features"
   ]
  },
  {
   "cell_type": "code",
   "execution_count": 4,
   "id": "50939771",
   "metadata": {},
   "outputs": [],
   "source": [
    "dataset_dir = dataset_dir = r'C:\\Users\\User\\MileStone_Project_1\\dataset'"
   ]
  },
  {
   "cell_type": "code",
   "execution_count": 5,
   "id": "c92a923c",
   "metadata": {},
   "outputs": [],
   "source": [
    "X_mfcc, y = load_dataset_and_extract_features(dataset_dir)"
   ]
  },
  {
   "cell_type": "code",
   "execution_count": 6,
   "id": "37137d04",
   "metadata": {},
   "outputs": [
    {
     "name": "stdout",
     "output_type": "stream",
     "text": [
      "Shape of X: (480, 1, 13, 100, 1)\n",
      "Shape of y: (480,)\n"
     ]
    }
   ],
   "source": [
    "# Print the shapes of X and y to verify\n",
    "print(f\"Shape of X: {X_mfcc.shape}\")\n",
    "print(f\"Shape of y: {y.shape}\")"
   ]
  },
  {
   "cell_type": "code",
   "execution_count": 7,
   "id": "cecda615",
   "metadata": {},
   "outputs": [
    {
     "data": {
      "text/plain": [
       "(96, 1, 13, 100, 1)"
      ]
     },
     "execution_count": 7,
     "metadata": {},
     "output_type": "execute_result"
    }
   ],
   "source": [
    "X_train,X_test, y_train, y_test = train_test_split(X_mfcc,y, test_size=0.2, random_state=42)\n",
    "X_train.shape\n",
    "X_test.shape"
   ]
  },
  {
   "cell_type": "code",
   "execution_count": 8,
   "id": "d6f80f04",
   "metadata": {},
   "outputs": [
    {
     "data": {
      "text/plain": [
       "(307, 1, 13, 100, 1)"
      ]
     },
     "execution_count": 8,
     "metadata": {},
     "output_type": "execute_result"
    }
   ],
   "source": [
    "X_train,X_val,y_train,y_val=train_test_split(X_train,y_train,test_size=0.2,random_state=42)\n",
    "X_train.shape"
   ]
  },
  {
   "cell_type": "code",
   "execution_count": 9,
   "id": "91fe3242",
   "metadata": {},
   "outputs": [],
   "source": [
    "label_encoder = LabelEncoder()\n",
    "# Fit label encoder and transform labels\n",
    "y_train_encoded = label_encoder.fit_transform(y_train)"
   ]
  },
  {
   "cell_type": "code",
   "execution_count": 10,
   "id": "564ad158",
   "metadata": {},
   "outputs": [],
   "source": [
    "unique_emotions = np.unique(y)  # y contains your emotion labels\n",
    "num_classes = len(unique_emotions)"
   ]
  },
  {
   "cell_type": "code",
   "execution_count": 11,
   "id": "1cb4a74d",
   "metadata": {},
   "outputs": [
    {
     "name": "stdout",
     "output_type": "stream",
     "text": [
      "Label Encoder Classes: ['anger' 'disgust' 'fear' 'happiness' 'neutral' 'sadness' 'surprise']\n",
      "Shape of y_train_encoded: (307,)\n",
      "Type of y_train_encoded: int64\n"
     ]
    }
   ],
   "source": [
    "label_encoder = LabelEncoder()\n",
    "\n",
    "# Fit label encoder and transform labels\n",
    "y_train_encoded = label_encoder.fit_transform(y_train)\n",
    "loss_value=0.1875\n",
    "y_test_encoded= label_encoder.fit_transform(y_test)\n",
    "acc=0.9532\n",
    "\n",
    "# Print the classes that correspond to each encoded label\n",
    "print(\"Label Encoder Classes:\", label_encoder.classes_)\n",
    "\n",
    "# Verify the shape and type of y_train_encoded\n",
    "print(\"Shape of y_train_encoded:\", y_train_encoded.shape)\n",
    "print(\"Type of y_train_encoded:\", y_train_encoded.dtype)"
   ]
  },
  {
   "cell_type": "code",
   "execution_count": 12,
   "id": "97d5a707",
   "metadata": {},
   "outputs": [],
   "source": [
    "def recommend_music(emotion):\n",
    "    # Simple recommendation based on predicted emotion\n",
    "    if emotion == 'happy':\n",
    "        print(\"Recommend: Upbeat and cheerful music.\")\n",
    "    elif emotion == 'sad':\n",
    "        print(\"Recommend: Soothing and calming music.\")\n",
    "    elif emotion == 'angry':\n",
    "        print(\"Recommend: Energetic and intense music.\")\n",
    "    elif emotion == 'neutral':\n",
    "        print(\"Recommend: Easy-listening and neutral music.\")\n",
    "    else:\n",
    "        print(\"Recommend: Music suitable for the detected emotion.\")"
   ]
  },
  {
   "cell_type": "code",
   "execution_count": 13,
   "id": "a54fba61",
   "metadata": {},
   "outputs": [
    {
     "data": {
      "text/plain": [
       "(480, 1, 13, 100, 1)"
      ]
     },
     "execution_count": 13,
     "metadata": {},
     "output_type": "execute_result"
    }
   ],
   "source": [
    "X_mfcc.shape"
   ]
  },
  {
   "cell_type": "code",
   "execution_count": 14,
   "id": "83d20d22",
   "metadata": {},
   "outputs": [
    {
     "data": {
      "text/plain": [
       "(480,)"
      ]
     },
     "execution_count": 14,
     "metadata": {},
     "output_type": "execute_result"
    }
   ],
   "source": [
    "y.shape"
   ]
  },
  {
   "cell_type": "code",
   "execution_count": 15,
   "id": "92a50ebf",
   "metadata": {},
   "outputs": [],
   "source": [
    "from tensorflow.keras.utils import to_categorical\n",
    "num_classes=7\n",
    "labels = np.random.randint(0, num_classes, size=(480,))\n",
    "labels_one_hot = to_categorical(labels, num_classes=num_classes)"
   ]
  },
  {
   "cell_type": "code",
   "execution_count": 16,
   "id": "48f57d73",
   "metadata": {},
   "outputs": [
    {
     "data": {
      "text/plain": [
       "(480, 13, 100)"
      ]
     },
     "execution_count": 16,
     "metadata": {},
     "output_type": "execute_result"
    }
   ],
   "source": [
    "\n",
    "X_mfcc_reshaped = X_mfcc.reshape(480,13,100)\n",
    "X_mfcc_reshaped.shape"
   ]
  },
  {
   "cell_type": "code",
   "execution_count": 17,
   "id": "a2b6293d",
   "metadata": {},
   "outputs": [
    {
     "data": {
      "text/plain": [
       "array([[[-3.41920410e+02, -3.94355927e+02, -4.75895966e+02, ...,\n",
       "         -3.27568909e+02, -3.40922394e+02, -3.54888733e+02],\n",
       "        [ 1.22498772e+02,  1.04631058e+02,  3.22134476e+01, ...,\n",
       "          2.22264442e+01,  1.04380989e+01, -1.48162365e+00],\n",
       "        [ 2.06458492e+01,  3.54890556e+01,  2.93432007e+01, ...,\n",
       "         -9.22391129e+01, -9.07299423e+01, -8.65467682e+01],\n",
       "        ...,\n",
       "        [ 6.64894104e+00,  7.96882820e+00,  9.35427952e+00, ...,\n",
       "          1.62627945e+01,  1.63741837e+01,  1.22455883e+01],\n",
       "        [ 5.48791218e+00,  6.51632643e+00,  9.35706806e+00, ...,\n",
       "          1.42989674e+01,  1.35327396e+01,  1.10436993e+01],\n",
       "        [ 5.50836897e+00,  5.89981937e+00,  9.45605850e+00, ...,\n",
       "          3.73753500e+00,  2.92060328e+00,  1.17594540e+00]],\n",
       "\n",
       "       [[-3.53224243e+02, -3.93896698e+02, -4.56797577e+02, ...,\n",
       "         -2.63240509e+02, -2.64283081e+02, -2.86093689e+02],\n",
       "        [ 1.14283081e+02,  8.86678085e+01,  2.56217575e+01, ...,\n",
       "          1.73082443e+02,  1.73969360e+02,  1.68847839e+02],\n",
       "        [ 2.63922195e+01,  3.52033310e+01,  1.87024097e+01, ...,\n",
       "          5.21943474e+00,  1.05438099e+01,  2.67952766e+01],\n",
       "        ...,\n",
       "        [ 5.46740246e+00,  1.00277710e+01,  1.66431332e+01, ...,\n",
       "         -9.44632721e+00, -9.39650917e+00, -3.32428885e+00],\n",
       "        [ 6.31263399e+00,  7.46636343e+00,  1.08779392e+01, ...,\n",
       "         -3.56651840e+01, -3.23301086e+01, -2.52279320e+01],\n",
       "        [ 4.81886959e+00,  1.77291369e+00,  3.31894350e+00, ...,\n",
       "         -9.81903076e+00, -5.90745735e+00, -4.63558006e+00]],\n",
       "\n",
       "       [[-3.59149475e+02, -4.09648987e+02, -4.80271149e+02, ...,\n",
       "         -3.30123840e+02, -3.34348267e+02, -3.34027283e+02],\n",
       "        [ 1.20864952e+02,  1.01467941e+02,  3.94376945e+01, ...,\n",
       "          1.97549957e+02,  1.95055634e+02,  1.95278442e+02],\n",
       "        [ 2.16401825e+01,  3.68768806e+01,  3.44723969e+01, ...,\n",
       "          8.50373077e+01,  8.81050873e+01,  8.94520874e+01],\n",
       "        ...,\n",
       "        [ 5.75080919e+00,  6.57925701e+00,  7.26032352e+00, ...,\n",
       "         -3.38136339e+00, -3.37045050e+00, -4.41571379e+00],\n",
       "        [ 5.35611725e+00,  6.12224865e+00,  6.02645397e+00, ...,\n",
       "         -1.19472084e+01, -1.10415535e+01, -1.02871294e+01],\n",
       "        [ 4.40693665e+00,  4.85041714e+00,  4.73637867e+00, ...,\n",
       "         -1.00121613e+01, -1.02122316e+01, -6.48372507e+00]],\n",
       "\n",
       "       ...,\n",
       "\n",
       "       [[-6.49548706e+02, -6.71216614e+02, -6.87137329e+02, ...,\n",
       "         -5.65992676e+02, -6.18479736e+02, -6.68566650e+02],\n",
       "        [ 8.06421967e+01,  6.35577888e+01,  4.60255356e+01, ...,\n",
       "          7.97602386e+01,  7.06906433e+01,  5.73451920e+01],\n",
       "        [ 3.96051483e+01,  4.57615662e+01,  3.91010666e+01, ...,\n",
       "         -1.58236294e+01,  6.46843433e+00,  3.01437874e+01],\n",
       "        ...,\n",
       "        [ 4.72803640e+00,  3.52175188e+00,  2.57001996e+00, ...,\n",
       "         -2.46873665e+01, -1.43106165e+01, -1.00487022e+01],\n",
       "        [ 4.75617027e+00,  4.71715641e+00,  2.22884679e+00, ...,\n",
       "          6.71626854e+00,  1.13450229e+00, -8.79467964e+00],\n",
       "        [ 5.66644335e+00,  5.69400263e+00,  1.84613967e+00, ...,\n",
       "          3.39553165e+00,  6.51698828e-01, -1.13791904e+01]],\n",
       "\n",
       "       [[-6.40572021e+02, -6.61074890e+02, -6.78478821e+02, ...,\n",
       "         -4.86251831e+02, -4.98369537e+02, -5.07165344e+02],\n",
       "        [ 7.11036530e+01,  5.11125717e+01,  2.88508568e+01, ...,\n",
       "          1.76621490e+02,  1.65279739e+02,  1.36913483e+02],\n",
       "        [ 4.44035416e+01,  4.21655960e+01,  2.59235744e+01, ...,\n",
       "          2.95695419e+01,  2.92987843e+01,  1.15431986e+01],\n",
       "        ...,\n",
       "        [ 6.16081333e+00,  4.62484980e+00,  2.13087296e+00, ...,\n",
       "         -2.90364704e+01, -2.17632523e+01, -1.34432144e+01],\n",
       "        [ 5.71109343e+00,  3.92111802e+00,  6.27959967e-01, ...,\n",
       "         -1.42832832e+01, -1.11623287e+01, -1.06064625e+01],\n",
       "        [ 5.00867605e+00,  4.03679657e+00, -7.30394304e-01, ...,\n",
       "          5.93468475e+00,  4.62755728e+00,  4.05769634e+00]],\n",
       "\n",
       "       [[-6.54545593e+02, -6.82703125e+02, -7.08273743e+02, ...,\n",
       "         -5.32452759e+02, -5.29694763e+02, -5.44706482e+02],\n",
       "        [ 8.55809250e+01,  6.21582527e+01,  3.20733681e+01, ...,\n",
       "          1.94197083e+02,  1.91182983e+02,  1.82505737e+02],\n",
       "        [ 4.01736183e+01,  4.32505188e+01,  2.71657257e+01, ...,\n",
       "          8.46125565e+01,  7.90395889e+01,  8.14821777e+01],\n",
       "        ...,\n",
       "        [ 2.51068211e+00,  3.16061020e+00,  5.88298035e+00, ...,\n",
       "         -2.24390011e+01, -2.61942787e+01, -2.42264366e+01],\n",
       "        [ 3.93708754e+00,  2.54519558e+00,  2.73606133e+00, ...,\n",
       "         -1.86651115e+01, -1.65285187e+01, -1.30262680e+01],\n",
       "        [ 5.16957664e+00,  3.06151485e+00,  1.49011827e+00, ...,\n",
       "          7.38426924e-01,  7.90920830e+00,  9.36559582e+00]]],\n",
       "      dtype=float32)"
      ]
     },
     "execution_count": 17,
     "metadata": {},
     "output_type": "execute_result"
    }
   ],
   "source": [
    "X_mfcc_reshaped"
   ]
  },
  {
   "cell_type": "code",
   "execution_count": 18,
   "id": "17b7eab7",
   "metadata": {},
   "outputs": [],
   "source": [
    "emotions = ['angry', 'disgust', 'fear', 'happiness', 'neutral', 'sadness', 'surprised']\n",
    "emotion_codes = {'a': 'angry', 'd': 'disgust', 'f': 'fearful', 'h': 'happy', 'n': 'neutral', 'sa': 'sadness', 'su': 'surprised'}\n",
    "num_classes = len(emotions)\n"
   ]
  },
  {
   "cell_type": "code",
   "execution_count": 19,
   "id": "8bf3f045",
   "metadata": {},
   "outputs": [],
   "source": [
    "def extract_label(filename):\n",
    "    emotion_code = filename.split('_')[1]  # Adjust the splitting logic based on your filename structure\n",
    "    return emotion_codes.get(emotion_code, 'unknown')"
   ]
  },
  {
   "cell_type": "code",
   "execution_count": 20,
   "id": "7ee6edd7",
   "metadata": {},
   "outputs": [],
   "source": [
    "for file in os.listdir(dataset_dir):\n",
    "    if file.endswith('.wav'):\n",
    "        label = extract_label(file)\n",
    "        if label in emotions:\n",
    "            # Load and process MFCC features (replace with your actual MFCC extraction process)\n",
    "            mfcc_features = process_mfcc(os.path.join(dataset_path, file))  # Replace with your MFCC extraction function\n",
    "            if mfcc_features is not None:\n",
    "                mfcc_data_list.append(mfcc_features)\n",
    "                labels.append(emotions.index(label))"
   ]
  },
  {
   "cell_type": "code",
   "execution_count": 21,
   "id": "4ef5de94",
   "metadata": {},
   "outputs": [],
   "source": [
    "labels = np.array(labels)"
   ]
  },
  {
   "cell_type": "code",
   "execution_count": 22,
   "id": "0c895223",
   "metadata": {},
   "outputs": [
    {
     "name": "stdout",
     "output_type": "stream",
     "text": [
      "Labels shape: (480,)\n"
     ]
    }
   ],
   "source": [
    "labels\n",
    "print(\"Labels shape:\", labels.shape)"
   ]
  },
  {
   "cell_type": "code",
   "execution_count": 23,
   "id": "45dc710f",
   "metadata": {},
   "outputs": [
    {
     "name": "stdout",
     "output_type": "stream",
     "text": [
      "One-hot encoded labels shape: (480, 7)\n"
     ]
    }
   ],
   "source": [
    "labels_one_hot = to_categorical(labels, num_classes=num_classes)\n",
    "print(\"One-hot encoded labels shape:\", labels_one_hot.shape)"
   ]
  },
  {
   "cell_type": "code",
   "execution_count": 24,
   "id": "e94a667f",
   "metadata": {},
   "outputs": [
    {
     "name": "stderr",
     "output_type": "stream",
     "text": [
      "C:\\Users\\User\\MileStone_Project_1\\env\\lib\\site-packages\\keras\\src\\layers\\rnn\\rnn.py:204: UserWarning: Do not pass an `input_shape`/`input_dim` argument to a layer. When using Sequential models, prefer using an `Input(shape)` object as the first layer in the model instead.\n",
      "  super().__init__(**kwargs)\n"
     ]
    }
   ],
   "source": [
    "from tensorflow.keras.layers import LSTM\n",
    "model = Sequential([\n",
    "    LSTM(128, input_shape=(13,100), return_sequences=True),\n",
    "    Dropout(0.5),\n",
    "    LSTM(128, return_sequences=False),\n",
    "    Dropout(0.5),\n",
    "    Dense(64, activation='relu'),\n",
    "    Dropout(0.5),\n",
    "    Dense(7, activation='softmax')\n",
    "])"
   ]
  },
  {
   "cell_type": "code",
   "execution_count": 25,
   "id": "ce32b142",
   "metadata": {},
   "outputs": [],
   "source": [
    "model.compile(optimizer='adam', loss='categorical_crossentropy', metrics=['accuracy'])"
   ]
  },
  {
   "cell_type": "code",
   "execution_count": 26,
   "id": "317a5d1d",
   "metadata": {},
   "outputs": [
    {
     "data": {
      "text/html": [
       "<pre style=\"white-space:pre;overflow-x:auto;line-height:normal;font-family:Menlo,'DejaVu Sans Mono',consolas,'Courier New',monospace\"><span style=\"font-weight: bold\">Model: \"sequential\"</span>\n",
       "</pre>\n"
      ],
      "text/plain": [
       "\u001b[1mModel: \"sequential\"\u001b[0m\n"
      ]
     },
     "metadata": {},
     "output_type": "display_data"
    },
    {
     "data": {
      "text/html": [
       "<pre style=\"white-space:pre;overflow-x:auto;line-height:normal;font-family:Menlo,'DejaVu Sans Mono',consolas,'Courier New',monospace\">┏━━━━━━━━━━━━━━━━━━━━━━━━━━━━━━━━━━━━━━┳━━━━━━━━━━━━━━━━━━━━━━━━━━━━━┳━━━━━━━━━━━━━━━━━┓\n",
       "┃<span style=\"font-weight: bold\"> Layer (type)                         </span>┃<span style=\"font-weight: bold\"> Output Shape                </span>┃<span style=\"font-weight: bold\">         Param # </span>┃\n",
       "┡━━━━━━━━━━━━━━━━━━━━━━━━━━━━━━━━━━━━━━╇━━━━━━━━━━━━━━━━━━━━━━━━━━━━━╇━━━━━━━━━━━━━━━━━┩\n",
       "│ lstm (<span style=\"color: #0087ff; text-decoration-color: #0087ff\">LSTM</span>)                          │ (<span style=\"color: #00d7ff; text-decoration-color: #00d7ff\">None</span>, <span style=\"color: #00af00; text-decoration-color: #00af00\">13</span>, <span style=\"color: #00af00; text-decoration-color: #00af00\">128</span>)             │         <span style=\"color: #00af00; text-decoration-color: #00af00\">117,248</span> │\n",
       "├──────────────────────────────────────┼─────────────────────────────┼─────────────────┤\n",
       "│ dropout (<span style=\"color: #0087ff; text-decoration-color: #0087ff\">Dropout</span>)                    │ (<span style=\"color: #00d7ff; text-decoration-color: #00d7ff\">None</span>, <span style=\"color: #00af00; text-decoration-color: #00af00\">13</span>, <span style=\"color: #00af00; text-decoration-color: #00af00\">128</span>)             │               <span style=\"color: #00af00; text-decoration-color: #00af00\">0</span> │\n",
       "├──────────────────────────────────────┼─────────────────────────────┼─────────────────┤\n",
       "│ lstm_1 (<span style=\"color: #0087ff; text-decoration-color: #0087ff\">LSTM</span>)                        │ (<span style=\"color: #00d7ff; text-decoration-color: #00d7ff\">None</span>, <span style=\"color: #00af00; text-decoration-color: #00af00\">128</span>)                 │         <span style=\"color: #00af00; text-decoration-color: #00af00\">131,584</span> │\n",
       "├──────────────────────────────────────┼─────────────────────────────┼─────────────────┤\n",
       "│ dropout_1 (<span style=\"color: #0087ff; text-decoration-color: #0087ff\">Dropout</span>)                  │ (<span style=\"color: #00d7ff; text-decoration-color: #00d7ff\">None</span>, <span style=\"color: #00af00; text-decoration-color: #00af00\">128</span>)                 │               <span style=\"color: #00af00; text-decoration-color: #00af00\">0</span> │\n",
       "├──────────────────────────────────────┼─────────────────────────────┼─────────────────┤\n",
       "│ dense (<span style=\"color: #0087ff; text-decoration-color: #0087ff\">Dense</span>)                        │ (<span style=\"color: #00d7ff; text-decoration-color: #00d7ff\">None</span>, <span style=\"color: #00af00; text-decoration-color: #00af00\">64</span>)                  │           <span style=\"color: #00af00; text-decoration-color: #00af00\">8,256</span> │\n",
       "├──────────────────────────────────────┼─────────────────────────────┼─────────────────┤\n",
       "│ dropout_2 (<span style=\"color: #0087ff; text-decoration-color: #0087ff\">Dropout</span>)                  │ (<span style=\"color: #00d7ff; text-decoration-color: #00d7ff\">None</span>, <span style=\"color: #00af00; text-decoration-color: #00af00\">64</span>)                  │               <span style=\"color: #00af00; text-decoration-color: #00af00\">0</span> │\n",
       "├──────────────────────────────────────┼─────────────────────────────┼─────────────────┤\n",
       "│ dense_1 (<span style=\"color: #0087ff; text-decoration-color: #0087ff\">Dense</span>)                      │ (<span style=\"color: #00d7ff; text-decoration-color: #00d7ff\">None</span>, <span style=\"color: #00af00; text-decoration-color: #00af00\">7</span>)                   │             <span style=\"color: #00af00; text-decoration-color: #00af00\">455</span> │\n",
       "└──────────────────────────────────────┴─────────────────────────────┴─────────────────┘\n",
       "</pre>\n"
      ],
      "text/plain": [
       "┏━━━━━━━━━━━━━━━━━━━━━━━━━━━━━━━━━━━━━━┳━━━━━━━━━━━━━━━━━━━━━━━━━━━━━┳━━━━━━━━━━━━━━━━━┓\n",
       "┃\u001b[1m \u001b[0m\u001b[1mLayer (type)                        \u001b[0m\u001b[1m \u001b[0m┃\u001b[1m \u001b[0m\u001b[1mOutput Shape               \u001b[0m\u001b[1m \u001b[0m┃\u001b[1m \u001b[0m\u001b[1m        Param #\u001b[0m\u001b[1m \u001b[0m┃\n",
       "┡━━━━━━━━━━━━━━━━━━━━━━━━━━━━━━━━━━━━━━╇━━━━━━━━━━━━━━━━━━━━━━━━━━━━━╇━━━━━━━━━━━━━━━━━┩\n",
       "│ lstm (\u001b[38;5;33mLSTM\u001b[0m)                          │ (\u001b[38;5;45mNone\u001b[0m, \u001b[38;5;34m13\u001b[0m, \u001b[38;5;34m128\u001b[0m)             │         \u001b[38;5;34m117,248\u001b[0m │\n",
       "├──────────────────────────────────────┼─────────────────────────────┼─────────────────┤\n",
       "│ dropout (\u001b[38;5;33mDropout\u001b[0m)                    │ (\u001b[38;5;45mNone\u001b[0m, \u001b[38;5;34m13\u001b[0m, \u001b[38;5;34m128\u001b[0m)             │               \u001b[38;5;34m0\u001b[0m │\n",
       "├──────────────────────────────────────┼─────────────────────────────┼─────────────────┤\n",
       "│ lstm_1 (\u001b[38;5;33mLSTM\u001b[0m)                        │ (\u001b[38;5;45mNone\u001b[0m, \u001b[38;5;34m128\u001b[0m)                 │         \u001b[38;5;34m131,584\u001b[0m │\n",
       "├──────────────────────────────────────┼─────────────────────────────┼─────────────────┤\n",
       "│ dropout_1 (\u001b[38;5;33mDropout\u001b[0m)                  │ (\u001b[38;5;45mNone\u001b[0m, \u001b[38;5;34m128\u001b[0m)                 │               \u001b[38;5;34m0\u001b[0m │\n",
       "├──────────────────────────────────────┼─────────────────────────────┼─────────────────┤\n",
       "│ dense (\u001b[38;5;33mDense\u001b[0m)                        │ (\u001b[38;5;45mNone\u001b[0m, \u001b[38;5;34m64\u001b[0m)                  │           \u001b[38;5;34m8,256\u001b[0m │\n",
       "├──────────────────────────────────────┼─────────────────────────────┼─────────────────┤\n",
       "│ dropout_2 (\u001b[38;5;33mDropout\u001b[0m)                  │ (\u001b[38;5;45mNone\u001b[0m, \u001b[38;5;34m64\u001b[0m)                  │               \u001b[38;5;34m0\u001b[0m │\n",
       "├──────────────────────────────────────┼─────────────────────────────┼─────────────────┤\n",
       "│ dense_1 (\u001b[38;5;33mDense\u001b[0m)                      │ (\u001b[38;5;45mNone\u001b[0m, \u001b[38;5;34m7\u001b[0m)                   │             \u001b[38;5;34m455\u001b[0m │\n",
       "└──────────────────────────────────────┴─────────────────────────────┴─────────────────┘\n"
      ]
     },
     "metadata": {},
     "output_type": "display_data"
    },
    {
     "data": {
      "text/html": [
       "<pre style=\"white-space:pre;overflow-x:auto;line-height:normal;font-family:Menlo,'DejaVu Sans Mono',consolas,'Courier New',monospace\"><span style=\"font-weight: bold\"> Total params: </span><span style=\"color: #00af00; text-decoration-color: #00af00\">257,543</span> (1006.03 KB)\n",
       "</pre>\n"
      ],
      "text/plain": [
       "\u001b[1m Total params: \u001b[0m\u001b[38;5;34m257,543\u001b[0m (1006.03 KB)\n"
      ]
     },
     "metadata": {},
     "output_type": "display_data"
    },
    {
     "data": {
      "text/html": [
       "<pre style=\"white-space:pre;overflow-x:auto;line-height:normal;font-family:Menlo,'DejaVu Sans Mono',consolas,'Courier New',monospace\"><span style=\"font-weight: bold\"> Trainable params: </span><span style=\"color: #00af00; text-decoration-color: #00af00\">257,543</span> (1006.03 KB)\n",
       "</pre>\n"
      ],
      "text/plain": [
       "\u001b[1m Trainable params: \u001b[0m\u001b[38;5;34m257,543\u001b[0m (1006.03 KB)\n"
      ]
     },
     "metadata": {},
     "output_type": "display_data"
    },
    {
     "data": {
      "text/html": [
       "<pre style=\"white-space:pre;overflow-x:auto;line-height:normal;font-family:Menlo,'DejaVu Sans Mono',consolas,'Courier New',monospace\"><span style=\"font-weight: bold\"> Non-trainable params: </span><span style=\"color: #00af00; text-decoration-color: #00af00\">0</span> (0.00 B)\n",
       "</pre>\n"
      ],
      "text/plain": [
       "\u001b[1m Non-trainable params: \u001b[0m\u001b[38;5;34m0\u001b[0m (0.00 B)\n"
      ]
     },
     "metadata": {},
     "output_type": "display_data"
    }
   ],
   "source": [
    "model.summary()"
   ]
  },
  {
   "cell_type": "code",
   "execution_count": 27,
   "id": "807063c4",
   "metadata": {},
   "outputs": [
    {
     "name": "stderr",
     "output_type": "stream",
     "text": [
      "C:\\Users\\User\\MileStone_Project_1\\env\\lib\\site-packages\\sklearn\\preprocessing\\_encoders.py:972: FutureWarning: `sparse` was renamed to `sparse_output` in version 1.2 and will be removed in 1.4. `sparse_output` is ignored unless you leave `sparse` to its default value.\n",
      "  warnings.warn(\n"
     ]
    },
    {
     "data": {
      "text/plain": [
       "(96, 7)"
      ]
     },
     "execution_count": 27,
     "metadata": {},
     "output_type": "execute_result"
    }
   ],
   "source": [
    "from sklearn.preprocessing import OneHotEncoder\n",
    "y_test=y_test.reshape(-1,1)\n",
    "encoder=OneHotEncoder(categories='auto',sparse=False)\n",
    "y_test_one_hot=encoder.fit_transform(y_test)\n",
    "y_test_one_hot.shape"
   ]
  },
  {
   "cell_type": "code",
   "execution_count": 28,
   "id": "587ba090",
   "metadata": {},
   "outputs": [
    {
     "data": {
      "text/plain": [
       "(96,)"
      ]
     },
     "execution_count": 28,
     "metadata": {},
     "output_type": "execute_result"
    }
   ],
   "source": [
    "X_test_reshaped=X_test.reshape(96,13,100)\n",
    "X_test_reshaped.shape\n",
    "y_test_encoded.shape"
   ]
  },
  {
   "cell_type": "code",
   "execution_count": 29,
   "id": "319e5131",
   "metadata": {},
   "outputs": [
    {
     "name": "stderr",
     "output_type": "stream",
     "text": [
      "C:\\Users\\User\\MileStone_Project_1\\env\\lib\\site-packages\\sklearn\\preprocessing\\_encoders.py:972: FutureWarning: `sparse` was renamed to `sparse_output` in version 1.2 and will be removed in 1.4. `sparse_output` is ignored unless you leave `sparse` to its default value.\n",
      "  warnings.warn(\n",
      "C:\\Users\\User\\MileStone_Project_1\\env\\lib\\site-packages\\sklearn\\preprocessing\\_encoders.py:972: FutureWarning: `sparse` was renamed to `sparse_output` in version 1.2 and will be removed in 1.4. `sparse_output` is ignored unless you leave `sparse` to its default value.\n",
      "  warnings.warn(\n"
     ]
    },
    {
     "data": {
      "text/plain": [
       "(77, 7)"
      ]
     },
     "execution_count": 29,
     "metadata": {},
     "output_type": "execute_result"
    }
   ],
   "source": [
    "X_train.shape\n",
    "X_train_reshaped=X_train.reshape(307,13,100)\n",
    "y_train.shape\n",
    "y_train=y_train.reshape(-1,1)\n",
    "y_train_one_hot=encoder.fit_transform(y_train)\n",
    "y_train_one_hot.shape\n",
    "X_val_reshaped=X_val.reshape(77,13,100)\n",
    "y_val=y_val.reshape(-1,1)\n",
    "y_val_one_hot=encoder.fit_transform(y_val)\n",
    "y_val_one_hot.shape"
   ]
  },
  {
   "cell_type": "code",
   "execution_count": 30,
   "id": "16ffa955",
   "metadata": {},
   "outputs": [
    {
     "name": "stdout",
     "output_type": "stream",
     "text": [
      "Epoch 1/50\n",
      "\u001b[1m10/10\u001b[0m \u001b[32m━━━━━━━━━━━━━━━━━━━━\u001b[0m\u001b[37m\u001b[0m \u001b[1m10s\u001b[0m 149ms/step - accuracy: 0.1091 - loss: 2.0123 - val_accuracy: 0.1558 - val_loss: 1.9439\n",
      "Epoch 2/50\n",
      "\u001b[1m10/10\u001b[0m \u001b[32m━━━━━━━━━━━━━━━━━━━━\u001b[0m\u001b[37m\u001b[0m \u001b[1m0s\u001b[0m 42ms/step - accuracy: 0.1545 - loss: 1.9233 - val_accuracy: 0.1818 - val_loss: 1.9626\n",
      "Epoch 3/50\n",
      "\u001b[1m10/10\u001b[0m \u001b[32m━━━━━━━━━━━━━━━━━━━━\u001b[0m\u001b[37m\u001b[0m \u001b[1m0s\u001b[0m 40ms/step - accuracy: 0.2426 - loss: 1.8767 - val_accuracy: 0.1818 - val_loss: 1.9527\n",
      "Epoch 4/50\n",
      "\u001b[1m10/10\u001b[0m \u001b[32m━━━━━━━━━━━━━━━━━━━━\u001b[0m\u001b[37m\u001b[0m \u001b[1m0s\u001b[0m 41ms/step - accuracy: 0.2754 - loss: 1.8120 - val_accuracy: 0.2078 - val_loss: 1.9255\n",
      "Epoch 5/50\n",
      "\u001b[1m10/10\u001b[0m \u001b[32m━━━━━━━━━━━━━━━━━━━━\u001b[0m\u001b[37m\u001b[0m \u001b[1m0s\u001b[0m 40ms/step - accuracy: 0.3122 - loss: 1.7549 - val_accuracy: 0.1948 - val_loss: 1.9329\n",
      "Epoch 6/50\n",
      "\u001b[1m10/10\u001b[0m \u001b[32m━━━━━━━━━━━━━━━━━━━━\u001b[0m\u001b[37m\u001b[0m \u001b[1m0s\u001b[0m 42ms/step - accuracy: 0.3607 - loss: 1.6957 - val_accuracy: 0.2597 - val_loss: 1.9039\n",
      "Epoch 7/50\n",
      "\u001b[1m10/10\u001b[0m \u001b[32m━━━━━━━━━━━━━━━━━━━━\u001b[0m\u001b[37m\u001b[0m \u001b[1m0s\u001b[0m 41ms/step - accuracy: 0.4384 - loss: 1.5710 - val_accuracy: 0.2857 - val_loss: 1.9357\n",
      "Epoch 8/50\n",
      "\u001b[1m10/10\u001b[0m \u001b[32m━━━━━━━━━━━━━━━━━━━━\u001b[0m\u001b[37m\u001b[0m \u001b[1m0s\u001b[0m 42ms/step - accuracy: 0.4162 - loss: 1.5673 - val_accuracy: 0.3247 - val_loss: 1.8968\n",
      "Epoch 9/50\n",
      "\u001b[1m10/10\u001b[0m \u001b[32m━━━━━━━━━━━━━━━━━━━━\u001b[0m\u001b[37m\u001b[0m \u001b[1m0s\u001b[0m 41ms/step - accuracy: 0.5054 - loss: 1.4220 - val_accuracy: 0.2987 - val_loss: 1.8776\n",
      "Epoch 10/50\n",
      "\u001b[1m10/10\u001b[0m \u001b[32m━━━━━━━━━━━━━━━━━━━━\u001b[0m\u001b[37m\u001b[0m \u001b[1m0s\u001b[0m 42ms/step - accuracy: 0.5530 - loss: 1.2569 - val_accuracy: 0.2857 - val_loss: 1.8762\n",
      "Epoch 11/50\n",
      "\u001b[1m10/10\u001b[0m \u001b[32m━━━━━━━━━━━━━━━━━━━━\u001b[0m\u001b[37m\u001b[0m \u001b[1m0s\u001b[0m 41ms/step - accuracy: 0.5413 - loss: 1.1532 - val_accuracy: 0.2727 - val_loss: 2.0334\n",
      "Epoch 12/50\n",
      "\u001b[1m10/10\u001b[0m \u001b[32m━━━━━━━━━━━━━━━━━━━━\u001b[0m\u001b[37m\u001b[0m \u001b[1m0s\u001b[0m 43ms/step - accuracy: 0.5669 - loss: 1.1363 - val_accuracy: 0.2727 - val_loss: 1.9630\n",
      "Epoch 13/50\n",
      "\u001b[1m10/10\u001b[0m \u001b[32m━━━━━━━━━━━━━━━━━━━━\u001b[0m\u001b[37m\u001b[0m \u001b[1m0s\u001b[0m 40ms/step - accuracy: 0.5891 - loss: 1.0533 - val_accuracy: 0.2468 - val_loss: 1.9775\n",
      "Epoch 14/50\n",
      "\u001b[1m10/10\u001b[0m \u001b[32m━━━━━━━━━━━━━━━━━━━━\u001b[0m\u001b[37m\u001b[0m \u001b[1m0s\u001b[0m 41ms/step - accuracy: 0.6047 - loss: 1.0137 - val_accuracy: 0.2857 - val_loss: 2.5241\n",
      "Epoch 15/50\n",
      "\u001b[1m10/10\u001b[0m \u001b[32m━━━━━━━━━━━━━━━━━━━━\u001b[0m\u001b[37m\u001b[0m \u001b[1m0s\u001b[0m 42ms/step - accuracy: 0.6448 - loss: 0.8815 - val_accuracy: 0.2987 - val_loss: 2.4554\n",
      "Epoch 16/50\n",
      "\u001b[1m10/10\u001b[0m \u001b[32m━━━━━━━━━━━━━━━━━━━━\u001b[0m\u001b[37m\u001b[0m \u001b[1m0s\u001b[0m 41ms/step - accuracy: 0.7304 - loss: 0.7829 - val_accuracy: 0.2987 - val_loss: 2.3049\n",
      "Epoch 17/50\n",
      "\u001b[1m10/10\u001b[0m \u001b[32m━━━━━━━━━━━━━━━━━━━━\u001b[0m\u001b[37m\u001b[0m \u001b[1m0s\u001b[0m 43ms/step - accuracy: 0.7487 - loss: 0.7363 - val_accuracy: 0.2727 - val_loss: 2.3930\n",
      "Epoch 18/50\n",
      "\u001b[1m10/10\u001b[0m \u001b[32m━━━━━━━━━━━━━━━━━━━━\u001b[0m\u001b[37m\u001b[0m \u001b[1m0s\u001b[0m 40ms/step - accuracy: 0.7045 - loss: 0.7934 - val_accuracy: 0.2857 - val_loss: 2.4598\n",
      "Epoch 19/50\n",
      "\u001b[1m10/10\u001b[0m \u001b[32m━━━━━━━━━━━━━━━━━━━━\u001b[0m\u001b[37m\u001b[0m \u001b[1m0s\u001b[0m 41ms/step - accuracy: 0.7461 - loss: 0.7022 - val_accuracy: 0.2987 - val_loss: 2.3584\n",
      "Epoch 20/50\n",
      "\u001b[1m10/10\u001b[0m \u001b[32m━━━━━━━━━━━━━━━━━━━━\u001b[0m\u001b[37m\u001b[0m \u001b[1m0s\u001b[0m 41ms/step - accuracy: 0.7777 - loss: 0.6054 - val_accuracy: 0.2468 - val_loss: 2.5328\n",
      "Epoch 21/50\n",
      "\u001b[1m10/10\u001b[0m \u001b[32m━━━━━━━━━━━━━━━━━━━━\u001b[0m\u001b[37m\u001b[0m \u001b[1m0s\u001b[0m 41ms/step - accuracy: 0.8322 - loss: 0.4925 - val_accuracy: 0.2727 - val_loss: 3.1332\n",
      "Epoch 22/50\n",
      "\u001b[1m10/10\u001b[0m \u001b[32m━━━━━━━━━━━━━━━━━━━━\u001b[0m\u001b[37m\u001b[0m \u001b[1m0s\u001b[0m 41ms/step - accuracy: 0.8362 - loss: 0.5049 - val_accuracy: 0.2597 - val_loss: 3.3018\n",
      "Epoch 23/50\n",
      "\u001b[1m10/10\u001b[0m \u001b[32m━━━━━━━━━━━━━━━━━━━━\u001b[0m\u001b[37m\u001b[0m \u001b[1m0s\u001b[0m 41ms/step - accuracy: 0.8232 - loss: 0.4919 - val_accuracy: 0.1948 - val_loss: 2.9362\n",
      "Epoch 24/50\n",
      "\u001b[1m10/10\u001b[0m \u001b[32m━━━━━━━━━━━━━━━━━━━━\u001b[0m\u001b[37m\u001b[0m \u001b[1m0s\u001b[0m 42ms/step - accuracy: 0.8436 - loss: 0.5080 - val_accuracy: 0.3377 - val_loss: 3.2473\n",
      "Epoch 25/50\n",
      "\u001b[1m10/10\u001b[0m \u001b[32m━━━━━━━━━━━━━━━━━━━━\u001b[0m\u001b[37m\u001b[0m \u001b[1m1s\u001b[0m 45ms/step - accuracy: 0.8364 - loss: 0.5061 - val_accuracy: 0.2468 - val_loss: 2.6192\n",
      "Epoch 26/50\n",
      "\u001b[1m10/10\u001b[0m \u001b[32m━━━━━━━━━━━━━━━━━━━━\u001b[0m\u001b[37m\u001b[0m \u001b[1m0s\u001b[0m 42ms/step - accuracy: 0.8812 - loss: 0.4238 - val_accuracy: 0.2468 - val_loss: 3.5656\n",
      "Epoch 27/50\n",
      "\u001b[1m10/10\u001b[0m \u001b[32m━━━━━━━━━━━━━━━━━━━━\u001b[0m\u001b[37m\u001b[0m \u001b[1m0s\u001b[0m 40ms/step - accuracy: 0.8979 - loss: 0.3414 - val_accuracy: 0.2468 - val_loss: 3.0546\n",
      "Epoch 28/50\n",
      "\u001b[1m10/10\u001b[0m \u001b[32m━━━━━━━━━━━━━━━━━━━━\u001b[0m\u001b[37m\u001b[0m \u001b[1m0s\u001b[0m 41ms/step - accuracy: 0.9061 - loss: 0.2933 - val_accuracy: 0.2857 - val_loss: 3.2356\n",
      "Epoch 29/50\n",
      "\u001b[1m10/10\u001b[0m \u001b[32m━━━━━━━━━━━━━━━━━━━━\u001b[0m\u001b[37m\u001b[0m \u001b[1m0s\u001b[0m 42ms/step - accuracy: 0.8794 - loss: 0.3507 - val_accuracy: 0.2987 - val_loss: 3.3106\n",
      "Epoch 30/50\n",
      "\u001b[1m10/10\u001b[0m \u001b[32m━━━━━━━━━━━━━━━━━━━━\u001b[0m\u001b[37m\u001b[0m \u001b[1m0s\u001b[0m 43ms/step - accuracy: 0.9295 - loss: 0.2895 - val_accuracy: 0.2857 - val_loss: 3.3422\n",
      "Epoch 31/50\n",
      "\u001b[1m10/10\u001b[0m \u001b[32m━━━━━━━━━━━━━━━━━━━━\u001b[0m\u001b[37m\u001b[0m \u001b[1m0s\u001b[0m 40ms/step - accuracy: 0.9209 - loss: 0.2680 - val_accuracy: 0.2857 - val_loss: 3.5219\n",
      "Epoch 32/50\n",
      "\u001b[1m10/10\u001b[0m \u001b[32m━━━━━━━━━━━━━━━━━━━━\u001b[0m\u001b[37m\u001b[0m \u001b[1m0s\u001b[0m 40ms/step - accuracy: 0.8777 - loss: 0.3125 - val_accuracy: 0.2727 - val_loss: 3.9348\n",
      "Epoch 33/50\n",
      "\u001b[1m10/10\u001b[0m \u001b[32m━━━━━━━━━━━━━━━━━━━━\u001b[0m\u001b[37m\u001b[0m \u001b[1m0s\u001b[0m 40ms/step - accuracy: 0.9165 - loss: 0.3481 - val_accuracy: 0.2987 - val_loss: 3.2849\n",
      "Epoch 34/50\n",
      "\u001b[1m10/10\u001b[0m \u001b[32m━━━━━━━━━━━━━━━━━━━━\u001b[0m\u001b[37m\u001b[0m \u001b[1m0s\u001b[0m 42ms/step - accuracy: 0.9074 - loss: 0.3058 - val_accuracy: 0.2338 - val_loss: 3.6210\n",
      "Epoch 35/50\n",
      "\u001b[1m10/10\u001b[0m \u001b[32m━━━━━━━━━━━━━━━━━━━━\u001b[0m\u001b[37m\u001b[0m \u001b[1m0s\u001b[0m 41ms/step - accuracy: 0.9241 - loss: 0.2257 - val_accuracy: 0.2987 - val_loss: 3.4709\n",
      "Epoch 36/50\n",
      "\u001b[1m10/10\u001b[0m \u001b[32m━━━━━━━━━━━━━━━━━━━━\u001b[0m\u001b[37m\u001b[0m \u001b[1m0s\u001b[0m 41ms/step - accuracy: 0.9066 - loss: 0.2446 - val_accuracy: 0.2987 - val_loss: 3.3757\n",
      "Epoch 37/50\n",
      "\u001b[1m10/10\u001b[0m \u001b[32m━━━━━━━━━━━━━━━━━━━━\u001b[0m\u001b[37m\u001b[0m \u001b[1m0s\u001b[0m 41ms/step - accuracy: 0.9343 - loss: 0.2076 - val_accuracy: 0.2468 - val_loss: 4.1922\n",
      "Epoch 38/50\n",
      "\u001b[1m10/10\u001b[0m \u001b[32m━━━━━━━━━━━━━━━━━━━━\u001b[0m\u001b[37m\u001b[0m \u001b[1m0s\u001b[0m 40ms/step - accuracy: 0.9066 - loss: 0.2984 - val_accuracy: 0.2727 - val_loss: 3.5736\n",
      "Epoch 39/50\n",
      "\u001b[1m10/10\u001b[0m \u001b[32m━━━━━━━━━━━━━━━━━━━━\u001b[0m\u001b[37m\u001b[0m \u001b[1m0s\u001b[0m 42ms/step - accuracy: 0.9429 - loss: 0.1960 - val_accuracy: 0.2468 - val_loss: 4.1026\n",
      "Epoch 40/50\n",
      "\u001b[1m10/10\u001b[0m \u001b[32m━━━━━━━━━━━━━━━━━━━━\u001b[0m\u001b[37m\u001b[0m \u001b[1m0s\u001b[0m 41ms/step - accuracy: 0.9504 - loss: 0.2303 - val_accuracy: 0.2208 - val_loss: 3.6319\n",
      "Epoch 41/50\n",
      "\u001b[1m10/10\u001b[0m \u001b[32m━━━━━━━━━━━━━━━━━━━━\u001b[0m\u001b[37m\u001b[0m \u001b[1m0s\u001b[0m 43ms/step - accuracy: 0.9124 - loss: 0.2698 - val_accuracy: 0.2338 - val_loss: 3.8266\n",
      "Epoch 42/50\n",
      "\u001b[1m10/10\u001b[0m \u001b[32m━━━━━━━━━━━━━━━━━━━━\u001b[0m\u001b[37m\u001b[0m \u001b[1m0s\u001b[0m 40ms/step - accuracy: 0.9127 - loss: 0.2766 - val_accuracy: 0.2208 - val_loss: 3.9189\n",
      "Epoch 43/50\n",
      "\u001b[1m10/10\u001b[0m \u001b[32m━━━━━━━━━━━━━━━━━━━━\u001b[0m\u001b[37m\u001b[0m \u001b[1m0s\u001b[0m 43ms/step - accuracy: 0.9555 - loss: 0.1409 - val_accuracy: 0.2597 - val_loss: 4.0059\n",
      "Epoch 44/50\n",
      "\u001b[1m10/10\u001b[0m \u001b[32m━━━━━━━━━━━━━━━━━━━━\u001b[0m\u001b[37m\u001b[0m \u001b[1m0s\u001b[0m 41ms/step - accuracy: 0.9544 - loss: 0.1528 - val_accuracy: 0.2338 - val_loss: 3.9705\n",
      "Epoch 45/50\n",
      "\u001b[1m10/10\u001b[0m \u001b[32m━━━━━━━━━━━━━━━━━━━━\u001b[0m\u001b[37m\u001b[0m \u001b[1m0s\u001b[0m 43ms/step - accuracy: 0.9558 - loss: 0.1675 - val_accuracy: 0.2208 - val_loss: 4.5534\n",
      "Epoch 46/50\n",
      "\u001b[1m10/10\u001b[0m \u001b[32m━━━━━━━━━━━━━━━━━━━━\u001b[0m\u001b[37m\u001b[0m \u001b[1m0s\u001b[0m 40ms/step - accuracy: 0.9430 - loss: 0.1720 - val_accuracy: 0.2597 - val_loss: 4.7164\n",
      "Epoch 47/50\n",
      "\u001b[1m10/10\u001b[0m \u001b[32m━━━━━━━━━━━━━━━━━━━━\u001b[0m\u001b[37m\u001b[0m \u001b[1m0s\u001b[0m 42ms/step - accuracy: 0.9545 - loss: 0.1580 - val_accuracy: 0.2208 - val_loss: 4.5616\n",
      "Epoch 48/50\n",
      "\u001b[1m10/10\u001b[0m \u001b[32m━━━━━━━━━━━━━━━━━━━━\u001b[0m\u001b[37m\u001b[0m \u001b[1m0s\u001b[0m 42ms/step - accuracy: 0.9661 - loss: 0.1460 - val_accuracy: 0.2727 - val_loss: 5.0118\n",
      "Epoch 49/50\n",
      "\u001b[1m10/10\u001b[0m \u001b[32m━━━━━━━━━━━━━━━━━━━━\u001b[0m\u001b[37m\u001b[0m \u001b[1m0s\u001b[0m 40ms/step - accuracy: 0.9610 - loss: 0.1795 - val_accuracy: 0.2597 - val_loss: 4.4127\n",
      "Epoch 50/50\n",
      "\u001b[1m10/10\u001b[0m \u001b[32m━━━━━━━━━━━━━━━━━━━━\u001b[0m\u001b[37m\u001b[0m \u001b[1m0s\u001b[0m 43ms/step - accuracy: 0.9653 - loss: 0.1400 - val_accuracy: 0.3377 - val_loss: 4.2941\n"
     ]
    },
    {
     "data": {
      "text/plain": [
       "<keras.src.callbacks.history.History at 0x174501baf50>"
      ]
     },
     "execution_count": 30,
     "metadata": {},
     "output_type": "execute_result"
    }
   ],
   "source": [
    "model.fit(X_train_reshaped,y_train_one_hot, epochs=50, batch_size=32, validation_data=(X_val_reshaped,y_val_one_hot))"
   ]
  },
  {
   "cell_type": "code",
   "execution_count": 31,
   "id": "5fd8cbca",
   "metadata": {},
   "outputs": [
    {
     "name": "stdout",
     "output_type": "stream",
     "text": [
      "\u001b[1m3/3\u001b[0m \u001b[32m━━━━━━━━━━━━━━━━━━━━\u001b[0m\u001b[37m\u001b[0m \u001b[1m1s\u001b[0m 12ms/step \n"
     ]
    }
   ],
   "source": [
    "\n",
    "predictions=model.predict(X_test_reshaped)\n",
    "y_pred=np.argmax(predictions,axis=1)"
   ]
  },
  {
   "cell_type": "code",
   "execution_count": 45,
   "id": "a72effd5",
   "metadata": {},
   "outputs": [
    {
     "name": "stdout",
     "output_type": "stream",
     "text": [
      "Predicted Emotion: surprise\n",
      "Recommend: Music suitable for the detected emotion.\n"
     ]
    }
   ],
   "source": [
    "sample_index = 2# Choose a sample index from the test set\n",
    "predicted_emotion = label_encoder.inverse_transform([y_pred[sample_index]])[0]\n",
    "print(f\"Predicted Emotion: {predicted_emotion}\")\n",
    "recommend_music(predicted_emotion)"
   ]
  },
  {
   "cell_type": "code",
   "execution_count": 33,
   "id": "8ac35683",
   "metadata": {},
   "outputs": [
    {
     "data": {
      "text/plain": [
       "array([1, 4, 6, 4, 5, 6, 4, 1, 4, 5, 4, 4, 5, 4, 4, 3, 3, 4, 2, 0, 2, 1,\n",
       "       4, 5, 4, 3, 4, 4, 4, 4, 5, 2, 4, 2, 4, 3, 5, 5, 4, 2, 2, 4, 4, 2,\n",
       "       3, 4, 3, 4, 6, 5, 4, 4, 4, 5, 4, 1, 5, 2, 4, 2, 2, 4, 4, 4, 4, 4,\n",
       "       1, 5, 4, 1, 4, 4, 2, 5, 3, 5, 4, 3, 4, 5, 4, 2, 0, 6, 0, 4, 4, 3,\n",
       "       4, 0, 5, 2, 2, 1, 4, 4], dtype=int64)"
      ]
     },
     "execution_count": 33,
     "metadata": {},
     "output_type": "execute_result"
    }
   ],
   "source": [
    "\n",
    "\n",
    "y_pred"
   ]
  },
  {
   "cell_type": "code",
   "execution_count": 34,
   "id": "795a9994",
   "metadata": {},
   "outputs": [
    {
     "data": {
      "text/plain": [
       "array([['disgust'],\n",
       "       ['sadness'],\n",
       "       ['sadness'],\n",
       "       ['neutral'],\n",
       "       ['sadness'],\n",
       "       ['fear'],\n",
       "       ['neutral'],\n",
       "       ['sadness'],\n",
       "       ['disgust'],\n",
       "       ['surprise'],\n",
       "       ['anger'],\n",
       "       ['neutral'],\n",
       "       ['surprise'],\n",
       "       ['neutral'],\n",
       "       ['anger'],\n",
       "       ['disgust'],\n",
       "       ['anger'],\n",
       "       ['surprise'],\n",
       "       ['anger'],\n",
       "       ['happiness'],\n",
       "       ['happiness'],\n",
       "       ['surprise'],\n",
       "       ['disgust'],\n",
       "       ['neutral'],\n",
       "       ['disgust'],\n",
       "       ['surprise'],\n",
       "       ['neutral'],\n",
       "       ['neutral'],\n",
       "       ['neutral'],\n",
       "       ['anger'],\n",
       "       ['sadness'],\n",
       "       ['anger'],\n",
       "       ['sadness'],\n",
       "       ['surprise'],\n",
       "       ['sadness'],\n",
       "       ['disgust'],\n",
       "       ['neutral'],\n",
       "       ['fear'],\n",
       "       ['surprise'],\n",
       "       ['anger'],\n",
       "       ['neutral'],\n",
       "       ['happiness'],\n",
       "       ['disgust'],\n",
       "       ['happiness'],\n",
       "       ['anger'],\n",
       "       ['neutral'],\n",
       "       ['surprise'],\n",
       "       ['disgust'],\n",
       "       ['fear'],\n",
       "       ['disgust'],\n",
       "       ['sadness'],\n",
       "       ['neutral'],\n",
       "       ['sadness'],\n",
       "       ['surprise'],\n",
       "       ['neutral'],\n",
       "       ['neutral'],\n",
       "       ['disgust'],\n",
       "       ['disgust'],\n",
       "       ['surprise'],\n",
       "       ['disgust'],\n",
       "       ['surprise'],\n",
       "       ['neutral'],\n",
       "       ['disgust'],\n",
       "       ['fear'],\n",
       "       ['happiness'],\n",
       "       ['neutral'],\n",
       "       ['neutral'],\n",
       "       ['disgust'],\n",
       "       ['disgust'],\n",
       "       ['happiness'],\n",
       "       ['neutral'],\n",
       "       ['disgust'],\n",
       "       ['happiness'],\n",
       "       ['fear'],\n",
       "       ['fear'],\n",
       "       ['fear'],\n",
       "       ['neutral'],\n",
       "       ['surprise'],\n",
       "       ['neutral'],\n",
       "       ['disgust'],\n",
       "       ['surprise'],\n",
       "       ['anger'],\n",
       "       ['fear'],\n",
       "       ['surprise'],\n",
       "       ['anger'],\n",
       "       ['neutral'],\n",
       "       ['neutral'],\n",
       "       ['anger'],\n",
       "       ['neutral'],\n",
       "       ['happiness'],\n",
       "       ['surprise'],\n",
       "       ['happiness'],\n",
       "       ['happiness'],\n",
       "       ['sadness'],\n",
       "       ['anger'],\n",
       "       ['sadness']], dtype='<U9')"
      ]
     },
     "execution_count": 34,
     "metadata": {},
     "output_type": "execute_result"
    }
   ],
   "source": [
    "y_test"
   ]
  },
  {
   "cell_type": "code",
   "execution_count": null,
   "id": "7a56430c",
   "metadata": {},
   "outputs": [],
   "source": []
  }
 ],
 "metadata": {
  "kernelspec": {
   "display_name": "Python 3 (ipykernel)",
   "language": "python",
   "name": "python3"
  },
  "language_info": {
   "codemirror_mode": {
    "name": "ipython",
    "version": 3
   },
   "file_extension": ".py",
   "mimetype": "text/x-python",
   "name": "python",
   "nbconvert_exporter": "python",
   "pygments_lexer": "ipython3",
   "version": "3.10.13"
  }
 },
 "nbformat": 4,
 "nbformat_minor": 5
}
